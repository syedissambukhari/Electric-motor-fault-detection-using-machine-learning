{
 "cells": [
  {
   "cell_type": "code",
   "execution_count": 3,
   "metadata": {},
   "outputs": [
    {
     "name": "stdout",
     "output_type": "stream",
     "text": [
      "Collecting scikit-plot\n",
      "  Downloading scikit_plot-0.3.7-py3-none-any.whl (33 kB)\n",
      "Requirement already satisfied: joblib>=0.10 in c:\\users\\syed issam bukhari\\anaconda3\\lib\\site-packages (from scikit-plot) (1.1.0)\n",
      "Requirement already satisfied: scipy>=0.9 in c:\\users\\syed issam bukhari\\anaconda3\\lib\\site-packages (from scikit-plot) (1.7.1)\n",
      "Requirement already satisfied: scikit-learn>=0.18 in c:\\users\\syed issam bukhari\\anaconda3\\lib\\site-packages (from scikit-plot) (0.24.2)\n",
      "Requirement already satisfied: matplotlib>=1.4.0 in c:\\users\\syed issam bukhari\\anaconda3\\lib\\site-packages (from scikit-plot) (3.3.4)\n",
      "Requirement already satisfied: numpy>=1.15 in c:\\users\\syed issam bukhari\\anaconda3\\lib\\site-packages (from matplotlib>=1.4.0->scikit-plot) (1.20.3)\n",
      "Requirement already satisfied: cycler>=0.10 in c:\\users\\syed issam bukhari\\anaconda3\\lib\\site-packages (from matplotlib>=1.4.0->scikit-plot) (0.10.0)\n",
      "Requirement already satisfied: pyparsing!=2.0.4,!=2.1.2,!=2.1.6,>=2.0.3 in c:\\users\\syed issam bukhari\\anaconda3\\lib\\site-packages (from matplotlib>=1.4.0->scikit-plot) (3.0.4)\n",
      "Requirement already satisfied: python-dateutil>=2.1 in c:\\users\\syed issam bukhari\\anaconda3\\lib\\site-packages (from matplotlib>=1.4.0->scikit-plot) (2.8.2)\n",
      "Requirement already satisfied: kiwisolver>=1.0.1 in c:\\users\\syed issam bukhari\\anaconda3\\lib\\site-packages (from matplotlib>=1.4.0->scikit-plot) (1.3.1)\n",
      "Requirement already satisfied: pillow>=6.2.0 in c:\\users\\syed issam bukhari\\anaconda3\\lib\\site-packages (from matplotlib>=1.4.0->scikit-plot) (8.4.0)\n",
      "Requirement already satisfied: six in c:\\users\\syed issam bukhari\\anaconda3\\lib\\site-packages (from cycler>=0.10->matplotlib>=1.4.0->scikit-plot) (1.16.0)\n",
      "Requirement already satisfied: threadpoolctl>=2.0.0 in c:\\users\\syed issam bukhari\\anaconda3\\lib\\site-packages (from scikit-learn>=0.18->scikit-plot) (2.2.0)\n",
      "Installing collected packages: scikit-plot\n",
      "Successfully installed scikit-plot-0.3.7\n"
     ]
    }
   ],
   "source": [
    "!pip install scikit-plot"
   ]
  },
  {
   "cell_type": "code",
   "execution_count": 80,
   "metadata": {},
   "outputs": [],
   "source": [
    "# import modules\n",
    "import pandas as pd\n",
    "import numpy as np\n",
    "import matplotlib.pyplot as plt\n",
    "import seaborn as sns\n",
    "import math\n",
    "from collections import defaultdict\n",
    "from time import time\n",
    "\n",
    "import pickle\n",
    "\n",
    "%matplotlib inline\n",
    "np.random.seed(100)"
   ]
  },
  {
   "cell_type": "code",
   "execution_count": 81,
   "metadata": {},
   "outputs": [],
   "source": [
    "# importing models\n",
    "\n",
    "\n",
    "# for splitting the data set\n",
    "from sklearn.model_selection import train_test_split\n",
    "from sklearn.model_selection import StratifiedKFold\n",
    "from sklearn.model_selection import GridSearchCV\n",
    "from sklearn.model_selection import cross_val_score\n",
    "from sklearn.model_selection import cross_validate\n",
    "from sklearn.model_selection import KFold\n",
    "\n",
    "#import KNeighbors classifier\n",
    "\n",
    "from sklearn.neighbors import KNeighborsClassifier\n",
    "\n",
    "#importing confusion matrix\n",
    "\n",
    "from sklearn.metrics import confusion_matrix\n",
    "\n",
    "#Classification report, recall_score,precision_score,f1_score\n",
    "from sklearn.metrics import classification_report, recall_score, precision_score,f1_score\n",
    "\n",
    "#roc curve and auc\n",
    "from sklearn.metrics import roc_curve, roc_auc_score,auc\n",
    "\n",
    "#importing scikitplot\n",
    "import scikitplot as skplt\n",
    "\n",
    "#importing normalizer for rescaling the data\n",
    "from sklearn.preprocessing import MinMaxScaler\n",
    "\n"
   ]
  },
  {
   "cell_type": "code",
   "execution_count": 82,
   "metadata": {},
   "outputs": [],
   "source": [
    "#load the data_set into the dataframe\n",
    "pima_df=pd.read_csv(\"motor.csv\",index_col=0)\n"
   ]
  },
  {
   "cell_type": "code",
   "execution_count": 83,
   "metadata": {},
   "outputs": [
    {
     "data": {
      "text/html": [
       "<div>\n",
       "<style scoped>\n",
       "    .dataframe tbody tr th:only-of-type {\n",
       "        vertical-align: middle;\n",
       "    }\n",
       "\n",
       "    .dataframe tbody tr th {\n",
       "        vertical-align: top;\n",
       "    }\n",
       "\n",
       "    .dataframe thead th {\n",
       "        text-align: right;\n",
       "    }\n",
       "</style>\n",
       "<table border=\"1\" class=\"dataframe\">\n",
       "  <thead>\n",
       "    <tr style=\"text-align: right;\">\n",
       "      <th></th>\n",
       "      <th>Current</th>\n",
       "      <th>Temp</th>\n",
       "      <th>Status</th>\n",
       "    </tr>\n",
       "    <tr>\n",
       "      <th>Power</th>\n",
       "      <th></th>\n",
       "      <th></th>\n",
       "      <th></th>\n",
       "    </tr>\n",
       "  </thead>\n",
       "  <tbody>\n",
       "    <tr>\n",
       "      <th>2710.02</th>\n",
       "      <td>12.32</td>\n",
       "      <td>33</td>\n",
       "      <td>Overcurrent-fault</td>\n",
       "    </tr>\n",
       "    <tr>\n",
       "      <th>2651.04</th>\n",
       "      <td>12.05</td>\n",
       "      <td>33</td>\n",
       "      <td>Overcurrent-fault</td>\n",
       "    </tr>\n",
       "    <tr>\n",
       "      <th>2627.02</th>\n",
       "      <td>11.40</td>\n",
       "      <td>31</td>\n",
       "      <td>Running-smoothly</td>\n",
       "    </tr>\n",
       "    <tr>\n",
       "      <th>2639.47</th>\n",
       "      <td>12.00</td>\n",
       "      <td>33</td>\n",
       "      <td>Overcurrent-fault</td>\n",
       "    </tr>\n",
       "    <tr>\n",
       "      <th>2658.42</th>\n",
       "      <td>11.20</td>\n",
       "      <td>30</td>\n",
       "      <td>Running-smoothly</td>\n",
       "    </tr>\n",
       "  </tbody>\n",
       "</table>\n",
       "</div>"
      ],
      "text/plain": [
       "         Current  Temp             Status\n",
       "Power                                    \n",
       "2710.02    12.32    33  Overcurrent-fault\n",
       "2651.04    12.05    33  Overcurrent-fault\n",
       "2627.02    11.40    31   Running-smoothly\n",
       "2639.47    12.00    33  Overcurrent-fault\n",
       "2658.42    11.20    30   Running-smoothly"
      ]
     },
     "execution_count": 83,
     "metadata": {},
     "output_type": "execute_result"
    }
   ],
   "source": [
    "pima_df.head()"
   ]
  },
  {
   "cell_type": "code",
   "execution_count": 84,
   "metadata": {},
   "outputs": [
    {
     "data": {
      "text/plain": [
       "(440, 3)"
      ]
     },
     "execution_count": 84,
     "metadata": {},
     "output_type": "execute_result"
    }
   ],
   "source": [
    "pima_df.shape"
   ]
  },
  {
   "cell_type": "code",
   "execution_count": 85,
   "metadata": {},
   "outputs": [
    {
     "data": {
      "text/plain": [
       "Current    float64\n",
       "Temp         int64\n",
       "Status      object\n",
       "dtype: object"
      ]
     },
     "execution_count": 85,
     "metadata": {},
     "output_type": "execute_result"
    }
   ],
   "source": [
    "pima_df.dtypes"
   ]
  },
  {
   "cell_type": "code",
   "execution_count": 86,
   "metadata": {},
   "outputs": [],
   "source": [
    "\n",
    "df= pd.read_csv(\"motor.csv\", delimiter=',', header=None, skiprows=1, names=['Power','Current','Temp','Status'])\n",
    "\n",
    "from sklearn.model_selection import train_test_split\n",
    "train, test = train_test_split(df, test_size = 0.2)\n",
    "train_features = train[['Power','Current','Temp','Status']]"
   ]
  },
  {
   "cell_type": "code",
   "execution_count": 87,
   "metadata": {},
   "outputs": [
    {
     "name": "stdout",
     "output_type": "stream",
     "text": [
      "         Current  Temp\n",
      "Power                 \n",
      "2710.02    12.32    33\n",
      "2651.04    12.05    33\n",
      "2627.02    11.40    31\n",
      "2639.47    12.00    33\n",
      "2658.42    11.20    30\n"
     ]
    }
   ],
   "source": [
    "#Convert the dataframe to Input and output data variables\n",
    "X = pima_df.loc[:,'Current':'Temp']\n",
    "print(X.head())\n",
    "Y = pima_df['Temp']\n"
   ]
  },
  {
   "cell_type": "code",
   "execution_count": null,
   "metadata": {},
   "outputs": [],
   "source": [
    "#Splitting the data set into train and test dataset with test_data size is 20 percent and 80 percent is \n",
    "X_train,X_test,Y_train,Y_test=train_test_split(X,Y,test_size=0.2,random_state=1,stratify=Y)"
   ]
  },
  {
   "cell_type": "code",
   "execution_count": 10,
   "metadata": {},
   "outputs": [],
   "source": [
    "# Pickling X_train\n",
    "with open('C:\\Users\\Syed Issam Bukhari\\Desktop\\motor\\Pickles\\X_train.pickle','wb') as output:\n",
    "    pickle.dump(X_train, output)\n",
    "\n",
    "with open('C:\\Users\\Syed Issam Bukhari\\Desktop\\motor\\\\Pickles\\X_test.pickle','wb') as output:\n",
    "    pickle.dump(X_test, output)\n",
    "    \n",
    "\n",
    "with open('C:\\Users\\Syed Issam Bukhari\\Desktop\\motor\\\\Pickles\\Y_train.pickle','wb') as output:\n",
    "    pickle.dump(Y_train, output)\n",
    "\n",
    "with open('C:\\Users\\Syed Issam Bukhari\\Desktop\\motor\\\\Pickles\\Y_test.pickle','wb') as output:\n",
    "    pickle.dump(Y_test, output)\n",
    "\n"
   ]
  },
  {
   "cell_type": "markdown",
   "metadata": {},
   "source": [
    "## Implementing knn classifier on data"
   ]
  },
  {
   "cell_type": "markdown",
   "metadata": {},
   "source": [
    "### Choosing the value of k is very important, for that i am splitting my data into train test and validation "
   ]
  },
  {
   "cell_type": "code",
   "execution_count": 11,
   "metadata": {},
   "outputs": [],
   "source": [
    "#Splitting the data set into train and validation dataset with test_data size is 20 percent and 80 percent is \n",
    "X_train,X_val,Y_train,Y_val=train_test_split(X_train,Y_train,test_size=0.2,random_state=1,stratify=Y_train)"
   ]
  },
  {
   "cell_type": "code",
   "execution_count": 12,
   "metadata": {},
   "outputs": [],
   "source": [
    "# It is accepted that the optimum value of k is squareroot(all train samples)/2"
   ]
  },
  {
   "cell_type": "code",
   "execution_count": 13,
   "metadata": {},
   "outputs": [
    {
     "name": "stdout",
     "output_type": "stream",
     "text": [
      "28.42534080710379\n"
     ]
    }
   ],
   "source": [
    "k_op=math.sqrt(X_train.size)/2 \n",
    "print(k_op)"
   ]
  },
  {
   "cell_type": "code",
   "execution_count": 14,
   "metadata": {},
   "outputs": [],
   "source": [
    "k_op=27"
   ]
  },
  {
   "cell_type": "code",
   "execution_count": 15,
   "metadata": {},
   "outputs": [],
   "source": [
    "plt.style.available\n",
    "plt.style.use('seaborn-dark')\n"
   ]
  },
  {
   "cell_type": "markdown",
   "metadata": {},
   "source": [
    "### low k values captures noise and high k value is hard to compute. We need to find the moderate k value"
   ]
  },
  {
   "cell_type": "code",
   "execution_count": 16,
   "metadata": {},
   "outputs": [
    {
     "name": "stdout",
     "output_type": "stream",
     "text": [
      "k=1 : acc=63.725490196078425\n",
      "k=2 : acc=78.43137254901961\n",
      "k=3 : acc=71.56862745098039\n",
      "k=4 : acc=78.43137254901961\n",
      "k=5 : acc=77.45098039215686\n",
      "k=6 : acc=75.49019607843137\n",
      "k=7 : acc=77.45098039215686\n",
      "k=8 : acc=74.50980392156863\n",
      "k=9 : acc=73.52941176470588\n",
      "k=10 : acc=73.52941176470588\n",
      "k=11 : acc=71.56862745098039\n",
      "k=12 : acc=75.49019607843137\n",
      "k=13 : acc=75.49019607843137\n",
      "k=14 : acc=75.49019607843137\n",
      "k=15 : acc=75.49019607843137\n",
      "k=16 : acc=75.49019607843137\n",
      "k=17 : acc=78.43137254901961\n",
      "k=18 : acc=77.45098039215686\n",
      "k=19 : acc=76.47058823529412\n",
      "k=20 : acc=75.49019607843137\n",
      "k=21 : acc=73.52941176470588\n",
      "k=22 : acc=74.50980392156863\n",
      "k=23 : acc=75.49019607843137\n",
      "k=24 : acc=73.52941176470588\n",
      "k=25 : acc=71.56862745098039\n",
      "k=26 : acc=74.50980392156863\n"
     ]
    }
   ],
   "source": [
    "k_list=[]\n",
    "acc_list=[]\n",
    "for i in range(1,k_op):\n",
    "    # setting the value of k=1\n",
    "    knn=KNeighborsClassifier(n_neighbors=i)\n",
    "    #Fitting the data into the model\n",
    "    knn.fit(X_train,Y_train)\n",
    "    #seeing how the model performs with the validation data\n",
    "    acc=knn.score(X_val,Y_val)*100\n",
    "    k_list.append(i)\n",
    "    acc_list.append(acc)\n",
    "    #k_acc[i]=acc\n",
    "    print(\"k={} : acc={}\".format(i,acc))"
   ]
  },
  {
   "cell_type": "code",
   "execution_count": 17,
   "metadata": {},
   "outputs": [
    {
     "data": {
      "text/plain": [
       "[1,\n",
       " 2,\n",
       " 3,\n",
       " 4,\n",
       " 5,\n",
       " 6,\n",
       " 7,\n",
       " 8,\n",
       " 9,\n",
       " 10,\n",
       " 11,\n",
       " 12,\n",
       " 13,\n",
       " 14,\n",
       " 15,\n",
       " 16,\n",
       " 17,\n",
       " 18,\n",
       " 19,\n",
       " 20,\n",
       " 21,\n",
       " 22,\n",
       " 23,\n",
       " 24,\n",
       " 25,\n",
       " 26]"
      ]
     },
     "execution_count": 17,
     "metadata": {},
     "output_type": "execute_result"
    }
   ],
   "source": [
    "k_list"
   ]
  },
  {
   "cell_type": "code",
   "execution_count": 18,
   "metadata": {},
   "outputs": [
    {
     "data": {
      "text/plain": [
       "Text(0, 0.5, 'accuracy')"
      ]
     },
     "execution_count": 18,
     "metadata": {},
     "output_type": "execute_result"
    },
    {
     "data": {
      "image/png": "[encoded data removed]",
      "text/plain": [
       "<Figure size 432x288 with 1 Axes>"
      ]
     },
     "metadata": {},
     "output_type": "display_data"
    }
   ],
   "source": [
    "plt.style.use('seaborn-darkgrid')\n",
    "plt.plot(k_list,acc_list,'green');\n",
    "plt.title(\"K value vs accuracy graph\")\n",
    "plt.xlabel('k-value')\n",
    "plt.ylabel('accuracy')\n"
   ]
  },
  {
   "cell_type": "code",
   "execution_count": 19,
   "metadata": {},
   "outputs": [],
   "source": [
    "#From the above graph we can observe that at k=4 and k=17 the accuracy is maximum and after it it keeps dropping"
   ]
  },
  {
   "cell_type": "code",
   "execution_count": 20,
   "metadata": {},
   "outputs": [
    {
     "name": "stdout",
     "output_type": "stream",
     "text": [
      "k= 4 Train Accuracy=82.17821782178217 and Test Accuracy =75.59055118110236\n",
      "k= 17 Train Accuracy=76.73267326732673 and Test Accuracy =78.74015748031496\n"
     ]
    }
   ],
   "source": [
    "# setting the value of k=20\n",
    "for k in (4,17):\n",
    "    knn=KNeighborsClassifier(n_neighbors=k)\n",
    "    #Fitting the data into the model\n",
    "    knn.fit(X_train,Y_train)\n",
    "    #seeing how the model performs with the test data\n",
    "    Train_acc=knn.score(X_train,Y_train)*100\n",
    "    Test_acc=knn.score(X_test,Y_test)*100\n",
    "    print(\"k= {} Train Accuracy={} and Test Accuracy ={}\".format(k,Train_acc,Test_acc))\n"
   ]
  },
  {
   "cell_type": "code",
   "execution_count": 21,
   "metadata": {},
   "outputs": [],
   "source": [
    "# From the above we can see that there is overfitting at k=4 that means it has captured noise.\n",
    "#k=17 is the optimum value of k"
   ]
  },
  {
   "cell_type": "markdown",
   "metadata": {},
   "source": [
    "## k= 17 Train Accuracy=76.73267326732673 and Test Accuracy =78.74015748031496"
   ]
  },
  {
   "cell_type": "markdown",
   "metadata": {},
   "source": [
    "## Calculating the performance metrics"
   ]
  },
  {
   "cell_type": "code",
   "execution_count": 22,
   "metadata": {},
   "outputs": [
    {
     "data": {
      "text/plain": [
       "array([[90,  2],\n",
       "       [25, 10]])"
      ]
     },
     "execution_count": 22,
     "metadata": {},
     "output_type": "execute_result"
    }
   ],
   "source": [
    "Y_pred=knn.predict(X_test)\n",
    "#Performance metrics\n",
    "confusion_matrix(Y_test,Y_pred)"
   ]
  },
  {
   "cell_type": "code",
   "execution_count": 23,
   "metadata": {},
   "outputs": [
    {
     "data": {
      "text/plain": [
       "83.33333333333334"
      ]
     },
     "execution_count": 23,
     "metadata": {},
     "output_type": "execute_result"
    }
   ],
   "source": [
    "precision_score(Y_test,Y_pred)*100"
   ]
  },
  {
   "cell_type": "code",
   "execution_count": 24,
   "metadata": {},
   "outputs": [
    {
     "data": {
      "text/plain": [
       "28.57142857142857"
      ]
     },
     "execution_count": 24,
     "metadata": {},
     "output_type": "execute_result"
    }
   ],
   "source": [
    "recall_score(Y_test,Y_pred)*100"
   ]
  },
  {
   "cell_type": "code",
   "execution_count": 25,
   "metadata": {},
   "outputs": [
    {
     "data": {
      "text/plain": [
       "42.553191489361694"
      ]
     },
     "execution_count": 25,
     "metadata": {},
     "output_type": "execute_result"
    }
   ],
   "source": [
    "f1_score(Y_test,Y_pred)*100"
   ]
  },
  {
   "cell_type": "code",
   "execution_count": 26,
   "metadata": {},
   "outputs": [],
   "source": [
    "#getting fpr and tpr and threshold\n",
    "fpr,tpr,threshold=roc_curve(Y_test,Y_pred)"
   ]
  },
  {
   "cell_type": "code",
   "execution_count": 27,
   "metadata": {},
   "outputs": [
    {
     "name": "stdout",
     "output_type": "stream",
     "text": [
      "0.6319875776397514\n"
     ]
    }
   ],
   "source": [
    "#one way of getting area under curve\n",
    "roc_auc = auc(fpr, tpr)\n",
    "print(roc_auc)"
   ]
  },
  {
   "cell_type": "code",
   "execution_count": 28,
   "metadata": {},
   "outputs": [
    {
     "name": "stdout",
     "output_type": "stream",
     "text": [
      "fpr=[0.         0.02173913 1.        ], tpr=[0.         0.28571429 1.        ], threshold= [2 1 0]\n"
     ]
    }
   ],
   "source": [
    "print(\"fpr={}, tpr={}, threshold= {}\".format(fpr,tpr,threshold))"
   ]
  },
  {
   "cell_type": "code",
   "execution_count": 29,
   "metadata": {},
   "outputs": [
    {
     "data": {
      "text/plain": [
       "0.6319875776397514"
      ]
     },
     "execution_count": 29,
     "metadata": {},
     "output_type": "execute_result"
    }
   ],
   "source": [
    "#getting area under curve\n",
    "roc_auc_score(Y_test,Y_pred)"
   ]
  },
  {
   "cell_type": "code",
   "execution_count": 30,
   "metadata": {},
   "outputs": [
    {
     "data": {
      "image/png": "[encoded data removed]",
      "text/plain": [
       "<Figure size 432x288 with 1 Axes>"
      ]
     },
     "metadata": {},
     "output_type": "display_data"
    }
   ],
   "source": [
    "#Plotting the roc curve\n",
    "plt.plot(fpr,tpr,'r',label = 'AUC = %0.2f' % roc_auc);\n",
    "plt.xlabel('False Positive Rate');\n",
    "plt.ylabel('True Positive Rate');\n",
    "plt.title(\"Receiver Operating Characteristics\");\n",
    "plt.legend([\"AUC=%.3f\"%roc_auc]);"
   ]
  },
  {
   "cell_type": "code",
   "execution_count": 31,
   "metadata": {},
   "outputs": [],
   "source": [
    "CR=classification_report(y_true=Y_test,y_pred=Y_pred)"
   ]
  },
  {
   "cell_type": "code",
   "execution_count": 32,
   "metadata": {},
   "outputs": [
    {
     "name": "stdout",
     "output_type": "stream",
     "text": [
      "              precision    recall  f1-score   support\n",
      "\n",
      "           0       0.78      0.98      0.87        92\n",
      "           1       0.83      0.29      0.43        35\n",
      "\n",
      "    accuracy                           0.79       127\n",
      "   macro avg       0.81      0.63      0.65       127\n",
      "weighted avg       0.80      0.79      0.75       127\n",
      "\n"
     ]
    }
   ],
   "source": [
    "print(CR)"
   ]
  },
  {
   "cell_type": "markdown",
   "metadata": {},
   "source": [
    "## classification report explained\n",
    "Precision — What percent of your predictions were correct?\n",
    "\n",
    "It means that- out of all our predictions for patients not having diabetes, 78 percent of them are correct.\n",
    "             - out of all our predictions for patients having diabetes, 83 percent predictions are right.\n",
    "\n",
    "Recall — What percent of the positive cases did you catch?\n",
    "It means that- out of all the patients that did not have diabetes, 98 percent of them are predicted correct.\n",
    "               - Out of all the patients that had diabetes, only 29 percent of them are covered(that is made correct prediction) and 71 percent of them are wrongly predicted)\n",
    "\n",
    "F1 score — What percent of positive predictions were correct?\n",
    "\n",
    "Support-Support is the number of actual occurrences of the class in the specified dataset."
   ]
  },
  {
   "cell_type": "markdown",
   "metadata": {},
   "source": [
    "## Our target data set is not balanced. Therefore for evaluating the model, accuracy is not a correct measure."
   ]
  },
  {
   "cell_type": "markdown",
   "metadata": {},
   "source": [
    "# Plotting roc and auc curve using scikit-plot"
   ]
  },
  {
   "cell_type": "code",
   "execution_count": 33,
   "metadata": {},
   "outputs": [],
   "source": [
    "y_proba=knn.predict_proba(X_test)"
   ]
  },
  {
   "cell_type": "code",
   "execution_count": 34,
   "metadata": {},
   "outputs": [
    {
     "data": {
      "text/plain": [
       "<matplotlib.axes._subplots.AxesSubplot at 0x1a24ea5b50>"
      ]
     },
     "execution_count": 34,
     "metadata": {},
     "output_type": "execute_result"
    },
    {
     "data": {
      "image/png": "[encoded data removed]",
      "text/plain": [
       "<Figure size 432x288 with 1 Axes>"
      ]
     },
     "metadata": {},
     "output_type": "display_data"
    }
   ],
   "source": [
    "skplt.metrics.plot_roc(y_true=Y_test,y_probas=y_proba)"
   ]
  },
  {
   "cell_type": "markdown",
   "metadata": {},
   "source": [
    "## Using Cross validation technique to evaluate the model"
   ]
  },
  {
   "cell_type": "markdown",
   "metadata": {},
   "source": [
    "### k-fold cross validation"
   ]
  },
  {
   "cell_type": "code",
   "execution_count": 35,
   "metadata": {},
   "outputs": [],
   "source": [
    "X=np.asarray(X)\n",
    "Y=np.asarray(Y)"
   ]
  },
  {
   "cell_type": "markdown",
   "metadata": {},
   "source": [
    "## stratified kfold cross validation"
   ]
  },
  {
   "cell_type": "code",
   "execution_count": 37,
   "metadata": {},
   "outputs": [],
   "source": [
    "sf_cv=StratifiedKFold(n_splits=5,shuffle=True,random_state=7)\n",
    "knn_kfold_strat=KNeighborsClassifier(n_neighbors=17)\n",
    "\n",
    "crossvalscore=cross_val_score(estimator=knn_kfold_strat,X=X,y=Y,cv=sf_cv)"
   ]
  },
  {
   "cell_type": "code",
   "execution_count": 38,
   "metadata": {},
   "outputs": [],
   "source": [
    "score=cross_validate(estimator=knn_kfold_strat,X=X,y=Y,cv=cv,return_train_score=True)"
   ]
  },
  {
   "cell_type": "code",
   "execution_count": 39,
   "metadata": {},
   "outputs": [
    {
     "name": "stdout",
     "output_type": "stream",
     "text": [
      "The accuracy obtained from cross validation test score is 75.66179227596551\n",
      "The accuracy obtained from cross validation train score is 77.84269242463223\n"
     ]
    }
   ],
   "source": [
    "test_acc=score['test_score'].mean()*100\n",
    "train_acc=score['train_score'].mean()*100\n",
    "print(\"The accuracy obtained from cross validation test score is {}\".format(test_acc))\n",
    "print(\"The accuracy obtained from cross validation train score is {}\".format(train_acc))"
   ]
  },
  {
   "cell_type": "code",
   "execution_count": 51,
   "metadata": {},
   "outputs": [],
   "source": [
    "#Making the data frame for model accuracies\n",
    "\n",
    "df_model=pd.DataFrame({'Model':[\"KNN\"],'Train_Accuracy':[train_acc],'Test_Accuracy':[test_acc]})"
   ]
  },
  {
   "cell_type": "code",
   "execution_count": 47,
   "metadata": {},
   "outputs": [],
   "source": [
    "df_model['Model']=[\"KNN\"]\n",
    "df_model['Train_accuracy']=train_acc\n",
    "df_model['Test_accuracy']=test_acc"
   ]
  },
  {
   "cell_type": "code",
   "execution_count": 52,
   "metadata": {},
   "outputs": [
    {
     "data": {
      "text/html": [
       "<div>\n",
       "<style scoped>\n",
       "    .dataframe tbody tr th:only-of-type {\n",
       "        vertical-align: middle;\n",
       "    }\n",
       "\n",
       "    .dataframe tbody tr th {\n",
       "        vertical-align: top;\n",
       "    }\n",
       "\n",
       "    .dataframe thead th {\n",
       "        text-align: right;\n",
       "    }\n",
       "</style>\n",
       "<table border=\"1\" class=\"dataframe\">\n",
       "  <thead>\n",
       "    <tr style=\"text-align: right;\">\n",
       "      <th></th>\n",
       "      <th>Model</th>\n",
       "      <th>Train_Accuracy</th>\n",
       "      <th>Test_Accuracy</th>\n",
       "    </tr>\n",
       "  </thead>\n",
       "  <tbody>\n",
       "    <tr>\n",
       "      <th>0</th>\n",
       "      <td>KNN</td>\n",
       "      <td>77.842692</td>\n",
       "      <td>75.661792</td>\n",
       "    </tr>\n",
       "  </tbody>\n",
       "</table>\n",
       "</div>"
      ],
      "text/plain": [
       "  Model  Train_Accuracy  Test_Accuracy\n",
       "0   KNN       77.842692      75.661792"
      ]
     },
     "execution_count": 52,
     "metadata": {},
     "output_type": "execute_result"
    }
   ],
   "source": []
  },
  {
   "cell_type": "code",
   "execution_count": 53,
   "metadata": {},
   "outputs": [],
   "source": [
    "# Pickling dataframe\n",
    "with open('C:\\Users\\Syed Issam Bukhari\\Desktop\\motor\\\\Pickles\\df_model.pickle','wb') as output:\n",
    "    pickle.dump(df_model, output)\n"
   ]
  },
  {
   "cell_type": "code",
   "execution_count": 54,
   "metadata": {},
   "outputs": [],
   "source": [
    "#pickling knnmodel\n",
    "with open('C:\\Users\\Syed Issam Bukhari\\Desktop\\motor\\\\Pickles\\KNN.pickle','wb') as output:\n",
    "    pickle.dump(knn_kfold_strat, output)\n"
   ]
  },
  {
   "cell_type": "code",
   "execution_count": null,
   "metadata": {},
   "outputs": [],
   "source": []
  }
 ],
 "metadata": {
  "kernelspec": {
   "display_name": "Python 3 (ipykernel)",
   "language": "python",
   "name": "python3"
  },
  "language_info": {
   "codemirror_mode": {
    "name": "ipython",
    "version": 3
   },
   "file_extension": ".py",
   "mimetype": "text/x-python",
   "name": "python",
   "nbconvert_exporter": "python",
   "pygments_lexer": "ipython3",
   "version": "3.9.7"
  }
 },
 "nbformat": 4,
 "nbformat_minor": 2
}
